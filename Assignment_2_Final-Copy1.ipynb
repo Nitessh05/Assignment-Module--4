{
 "cells": [
  {
   "cell_type": "markdown",
   "id": "fddb0805-930e-4657-b78a-62746fad9f3a",
   "metadata": {},
   "source": [
    "Data Types and Structures Questions"
   ]
  },
  {
   "cell_type": "code",
   "execution_count": null,
   "id": "30e5ca29-a545-4cd0-9f2d-511f2f5c1947",
   "metadata": {},
   "outputs": [],
   "source": [
    "# 1. What are data structures, and why are they important?\n",
    "-\n",
    "Data structures are specialized formats used to organize, store, and manage data in a computer so that it can be accessed and modified efficiently. Common examples include lists, tuples, sets, and dictionaries in Python.\n",
    "They are important because they help improve the efficiency of programs, especially when dealing with large amounts of data. By choosing the right data structure, tasks like searching, sorting, and retrieving data become faster and more effective.\n",
    "Data structures also play a crucial role in writing clean, logical, and maintainable code, and are fundamental in various applications such as databases, operating systems, networking, and algorithm design."
   ]
  },
  {
   "cell_type": "code",
   "execution_count": null,
   "id": "94776216-3fb7-47ad-9396-801d8a577958",
   "metadata": {},
   "outputs": [],
   "source": [
    "# 2. Explain the difference between mutable and immutable data types with example\n",
    "-\n",
    "In Python, mutable data types are those that can be changed after creation, while immutable data types cannot be changed once created.\n",
    "\n",
    "Mutable Data Types:\n",
    "These allow modification of their contents without changing their identity.\n",
    "\n",
    "Examples: list, set, dict\n",
    "\n",
    "Immutable Data Types:\n",
    "These do not allow any change after creation. Any modification creates a new object.\n",
    "\n",
    "Examples: int, float, str, tuple\n"
   ]
  },
  {
   "cell_type": "code",
   "execution_count": 2,
   "id": "d40bb577-b52d-463e-80d1-b23996e16e96",
   "metadata": {},
   "outputs": [
    {
     "name": "stdout",
     "output_type": "stream",
     "text": [
      "[1, 2, 3, 4]\n",
      "Nitesh Kumar\n"
     ]
    }
   ],
   "source": [
    "my_list = [1, 2, 3]\n",
    "my_list.append(4)  # Modifies the existing list\n",
    "print(my_list)     # Output: [1, 2, 3, 4]\n",
    "\n",
    "name = \"Nitesh\"\n",
    "name = name + \" Kumar\"  # A new string is created\n",
    "print(name)             # Output: Nitesh Kumar\n"
   ]
  },
  {
   "cell_type": "code",
   "execution_count": null,
   "id": "320f1f39-c0f9-4cd5-a3dc-ad894a79e44e",
   "metadata": {},
   "outputs": [],
   "source": [
    "# 3. What are the main differences between lists and tuples in Python ?\n",
    "-\n",
    "Lists and tuples are both used to store collections of items in Python, but they differ in several important ways:\n",
    "\n",
    "Mutability:\n",
    "\n",
    "Lists are mutable, meaning you can change, add, or remove elements after the list is created.\n",
    "\n",
    "Tuples are immutable, meaning once they are created, they cannot be changed.\n",
    "\n",
    "Syntax:\n",
    "\n",
    "Lists use square brackets [ ]\n",
    "\n",
    "Tuples use parentheses ( )\n",
    "\n",
    "Performance:\n",
    "\n",
    "Tuples are faster and use less memory compared to lists due to their immutability.\n",
    "\n",
    "Use Case:\n",
    "\n",
    "Use a list when you need a collection of items that may change.\n",
    "\n",
    "Use a tuple when you want to ensure the data remains constant throughout the program.\n",
    "\n",
    "Built-in Methods:\n",
    "\n",
    "Lists offer more methods (like append, remove, sort, etc.)\n",
    "\n",
    "Tuples have fewer methods, mainly for accessing and counting values.\n",
    "\n"
   ]
  },
  {
   "cell_type": "code",
   "execution_count": null,
   "id": "8c90f7a4-68b5-4bfe-b08a-0729f6dd619e",
   "metadata": {},
   "outputs": [],
   "source": [
    "# 4.  Describe how dictionaries store data\n",
    "-\n",
    "Dictionaries in Python store data in the form of key-value pairs. Each key is unique and is used to access its corresponding value. Internally, dictionaries use a data structure called a hash table to achieve fast lookup, insertion, and deletion.\n",
    "\n",
    "Keys must be immutable (like strings, numbers, or tuples).\n",
    "\n",
    "Values can be of any data type and can be duplicated.\n",
    "\n",
    "When a key-value pair is added, Python calculates the hash of the key to determine where it should be stored in memory.\n",
    "\n",
    "This allows Python to retrieve values quickly using their keys, making dictionaries very efficient for tasks that require fast access to data.\n",
    "\n",
    "Dictionaries are commonly used for storing structured data, such as a person’s name, age, and address."
   ]
  },
  {
   "cell_type": "code",
   "execution_count": null,
   "id": "0727e1ef-dbde-4d2f-ade2-c03938ef2c71",
   "metadata": {},
   "outputs": [],
   "source": [
    "# 5. Why might you use a set instead of a list in Python?\n",
    "-\n",
    "You might use a set instead of a list in Python when we need to:\n",
    "\n",
    "Store unique elements:Sets automatically remove duplicates. If you have repeated items and only want to keep one of each, a set is ideal.\n",
    "\n",
    "Check membership efficiently:Sets offer faster lookup for checking if an element exists, compared to lists. This is because sets use hash tables internally.\n",
    "\n",
    "Perform set operations:Sets support operations like union, intersection, difference, and symmetric difference, which are useful in tasks involving mathematical set theory or filtering data.\n",
    "\n",
    "Example use-case:When collecting unique user IDs from a list that may contain duplicates, a set helps eliminate redundancy instantly."
   ]
  },
  {
   "cell_type": "code",
   "execution_count": null,
   "id": "7d1763b8-08e5-452c-9313-ad33cf5b7cdb",
   "metadata": {},
   "outputs": [],
   "source": [
    "# 6.  What is a string in Python, and how is it different from a list\n",
    "-\n",
    "\n",
    "A stringin Python is a sequence of characters enclosed in single, double, or triple quotes (e.g., `\"Hello\"` or `'Python'`). It is used to represent textual data.\n",
    "\n",
    "**Key differences between a string and a list:\n",
    "\n",
    "1. Data Type:\n",
    "\n",
    "A string holds only characters\n",
    "A list can hold any data type(e.g., numbers, strings, other lists).\n",
    "\n",
    "2.Mutability:\n",
    "\n",
    "Strings are immutable (you cannot change them after creation).\n",
    "Lists are mutable (you can modify, add, or remove elements).\n",
    "\n",
    "3.Operations:\n",
    "Strings support operations like concatenation, slicing, and methods like `upper(), lower().\n",
    "Lists support element-wise manipulation like append()`, remove(), and can hold mixed data types.\n",
    "\n"
   ]
  },
  {
   "cell_type": "code",
   "execution_count": null,
   "id": "4510a4c3-b0e2-4f5b-84b9-65b4f2e72e1d",
   "metadata": {},
   "outputs": [],
   "source": [
    "# 7.  How do tuples ensure data integrity in Python\n",
    "-\n",
    "Tuples in Python are immutable, which means their values cannot be changed after creation.  \n",
    "This immutability protects the data from being modified accidentally or intentionally,  \n",
    "ensuring the original data remains intact throughout the program.  \n",
    "Hence, tuples are useful when data integrity and consistency are required.\n"
   ]
  },
  {
   "cell_type": "code",
   "execution_count": null,
   "id": "979eed59-b1f9-4ac8-b659-12cb6a53b72b",
   "metadata": {},
   "outputs": [],
   "source": [
    "# 8.  What is a hash table, and how does it relate to dictionaries in Python?\n",
    "-\n",
    "A hash table is a data structure that stores key-value pairs using a hash function to compute an index into an array of buckets or slots.  \n",
    "In Python, dictionaries are implemented using hash tables. Each key in a dictionary is hashed to find the index where its value is stored.  \n",
    "This allows for fast data access, insertion, and deletion based on keys."
   ]
  },
  {
   "cell_type": "code",
   "execution_count": null,
   "id": "9974da13-1a5a-42a6-9026-c265e1e40355",
   "metadata": {},
   "outputs": [],
   "source": [
    "# 9.  Can lists contain different data types in Python\n",
    "-\n",
    "Yes, in Python, lists can contain elements of different data types.\n",
    "For example, a single list can hold integers, strings, floats, booleans, or even other lists:"
   ]
  },
  {
   "cell_type": "code",
   "execution_count": null,
   "id": "bd47569c-b025-4186-b925-0556b0bc38e3",
   "metadata": {},
   "outputs": [],
   "source": [
    "# 10  Explain why strings are immutable in Python\n",
    "--\n",
    "Strings are immutable in Python because once a string is created, its content cannot be changed. This means any operation that modifies a string actually creates a new string rather than changing the original one.\n",
    "Why are they immutable?\n",
    "Memory Efficiency: Since strings are used frequently, making them immutable helps Python optimize memory usage and performance through techniques like string interning.\n",
    "Thread Safety: Immutability ensures that strings can be shared across threads without the risk of unexpected changes, making programs more secure and reliable.\n",
    "Hashability: Immutable objects like strings can be used as keys in dictionaries and elements in sets because their hash values don’t change over time."
   ]
  },
  {
   "cell_type": "code",
   "execution_count": null,
   "id": "6c33d56a-07b8-4a96-bd03-179b2bc6b10f",
   "metadata": {},
   "outputs": [],
   "source": [
    "# 11.  What advantages do dictionaries offer over lists for certain tasks\n",
    "--\n",
    "Dictionaries offer several advantages over lists for specific tasks:\n",
    "\n",
    "Faster lookups: Dictionaries use a hash table internally, allowing quick access to values based on keys. Looking up an item by key is typically faster (O(1)) than searching through a list (O(n)).\n",
    "\n",
    "Key-value pairing: Dictionaries store data as key-value pairs, making them ideal for situations where you want to associate a specific label (key) with a value.\n",
    "\n",
    "Better data organization: When data has a clear relationship between identifiers and values (like student ID and marks), dictionaries keep the structure clean and readable.\n",
    "\n",
    "Avoids duplication of keys: Dictionary keys are unique by design, which helps prevent duplication of identifiers, unlike lists that can have repeated values.\n",
    "\n",
    "Direct access: You can directly access, modify, or delete a value by using its key without needing to know the position/index, unlike lists.\n",
    "\n",
    "Overall, dictionaries are more efficient and intuitive for tasks that require labeled data and quick access based on identifiers.\n"
   ]
  },
  {
   "cell_type": "code",
   "execution_count": null,
   "id": "ad56ef12-9761-487b-a3de-152356f9d85b",
   "metadata": {},
   "outputs": [],
   "source": [
    "# 12.  Describe a scenario where using a tuple would be preferable over a list\n",
    "-\n",
    "#When you want to store a fixed set of values that should not change, such as the coordinates of a location.\n",
    "coordinates = (28.6139, 77.2090)  # Tuple used because location shouldn't be altered\n"
   ]
  },
  {
   "cell_type": "code",
   "execution_count": 7,
   "id": "1a67a978-af66-42b0-84d0-db97166002e3",
   "metadata": {},
   "outputs": [
    {
     "name": "stdout",
     "output_type": "stream",
     "text": [
      "{1, 2, 3, 4}\n"
     ]
    }
   ],
   "source": [
    "# 13. How do sets handle duplicate values in Python\n",
    "-\n",
    "#Sets in Python automatically remove duplicate values. When you add elements to a set, any duplicates are ignored, and only unique elements are stored.\n",
    "my_set = {1, 2, 2, 3, 4, 4}\n",
    "print(my_set)"
   ]
  },
  {
   "cell_type": "code",
   "execution_count": null,
   "id": "7951611e-3143-45d5-8d43-ebba0e5c1185",
   "metadata": {},
   "outputs": [],
   "source": [
    "# 14. How does the “in” keyword work differently for lists and dictionaries\n",
    "-\n",
    "In Python, the in keyword is used to check for membership, but its behavior differs slightly between lists and dictionaries:\n",
    "In lists, in checks whether a value exists in the list.\n",
    "Example: \n",
    "In dictionaries, in checks whether a key exists, not a value.\n",
    "\n"
   ]
  },
  {
   "cell_type": "code",
   "execution_count": 8,
   "id": "860900c5-674f-4054-8eff-a94c70aa3a19",
   "metadata": {},
   "outputs": [
    {
     "name": "stdout",
     "output_type": "stream",
     "text": [
      "True\n",
      "True\n",
      "False\n"
     ]
    }
   ],
   "source": [
    "my_list = [1, 2, 3]\n",
    "print(2 in my_list)\n",
    "\n",
    "my_dict = {'a': 1, 'b': 2}\n",
    "print('a' in my_dict)  \n",
    "print(1 in my_dict)"
   ]
  },
  {
   "cell_type": "code",
   "execution_count": null,
   "id": "fd5649c4-e4c3-4bd7-b934-52e8b5b4e219",
   "metadata": {},
   "outputs": [],
   "source": [
    "# 15. Can you modify the elements of a tuple? Explain why or why not\n",
    "--\n",
    "No, you cannot modify the elements of a tuple in Python because tuples are immutable. This means once a tuple is created, its elements cannot be changed, added, or removed. This immutability ensures data integrity and makes tuples suitable for use as keys in dictionaries or elements of sets."
   ]
  },
  {
   "cell_type": "code",
   "execution_count": null,
   "id": "e8a47304-29fb-4e20-aa75-bd1bcd58c600",
   "metadata": {},
   "outputs": [],
   "source": [
    "# 16. What is a nested dictionary, and give an example of its use case\n",
    "-\n",
    "A nested dictionary is a dictionary within another dictionary. It allows you to represent hierarchical or structured data in a way that's easy to access and organize.\n",
    "\n",
    "Use case example:\n",
    "Storing information about multiple employees, each with their own details."
   ]
  },
  {
   "cell_type": "code",
   "execution_count": 9,
   "id": "ad98e361-d80d-4a92-af9e-9b9baff00b1a",
   "metadata": {},
   "outputs": [
    {
     "name": "stdout",
     "output_type": "stream",
     "text": [
      "{'emp1': {'name': 'Alice', 'age': 28, 'department': 'HR'}, 'emp2': {'name': 'Bob', 'age': 35, 'department': 'IT'}, 'emp3': {'name': 'Charlie', 'age': 30, 'department': 'Finance'}}\n"
     ]
    }
   ],
   "source": [
    "employees = {\n",
    "    \"emp1\": {\"name\": \"Alice\", \"age\": 28, \"department\": \"HR\"},\n",
    "    \"emp2\": {\"name\": \"Bob\", \"age\": 35, \"department\": \"IT\"},\n",
    "    \"emp3\": {\"name\": \"Charlie\", \"age\": 30, \"department\": \"Finance\"}\n",
    "}\n",
    "print(employees)"
   ]
  },
  {
   "cell_type": "code",
   "execution_count": null,
   "id": "b7a45a8a-fbde-4024-8005-f399af372fe5",
   "metadata": {},
   "outputs": [],
   "source": [
    "# 17.  Describe the time complexity of accessing elements in a dictionary\n",
    "--\n",
    "The time complexity of accessing elements in a dictionary in Python is:\n",
    "Average Case: O(1)\n",
    "Worst Case: O(n)\n",
    "\"\"\"Explanation:\n",
    "Average Case (O(1)): Dictionaries use hash tables internally, allowing fast access to elements using keys.\n",
    "\n",
    "Worst Case (O(n)): In rare situations like hash collisions, multiple keys may end up in the same hash bucket. In such cases, lookup time can degrade to linear time.\n",
    "\n",
    "In practice, Python dictionaries provide constant time access in most scenarios.\"\"\""
   ]
  },
  {
   "cell_type": "code",
   "execution_count": null,
   "id": "2ba2e3ab-9b73-4e6e-bfb1-8c06353d57b9",
   "metadata": {},
   "outputs": [],
   "source": [
    "# 18.  In what situations are lists preferred over dictionaries\n",
    "\n",
    "--\n",
    "Lists are preferred over dictionaries in the following situations:\n",
    "\n",
    "When the order of elements matters, since lists maintain insertion order and allow indexed access.\n",
    "\n",
    "When you need to store a sequence of items without needing named keys, such as numbers, strings, or objects.\n",
    "\n",
    "When you want to iterate through elements in order using positions (indices).\n",
    "\n",
    "When memory usage needs to be minimal, as lists typically consume less memory than dictionaries for simple data.\n",
    "\n",
    "When you don’t need key-value pairs and only care about the data itself.\n",
    "\n",
    "Example Use Case: Storing a list of student names in order of registration:\n",
    "students = [\"Anjali\", \"Rahul\", \"Sita\", \"Amit\"]\n"
   ]
  },
  {
   "cell_type": "code",
   "execution_count": null,
   "id": "e042f74f-2f8c-4a6a-83f8-997e0bdf6559",
   "metadata": {},
   "outputs": [],
   "source": [
    "# 19. Why are dictionaries considered unordered, and how does that affect data retrieval\n",
    "\n",
    "--\n",
    "Dictionaries in Python were historically considered unordered because they did not maintain the insertion order of keys prior to Python 3.7. In versions before that, the order in which key-value pairs were added was not guaranteed to be preserved during iteration.\n",
    "\n",
    "However, **from Python 3.7 onwards**, dictionaries maintain **insertion order** as an implementation detail (and officially from Python 3.8). Despite this, dictionaries are still conceptually treated as **unordered mappings**, because their primary purpose is **fast lookup by key**, not sequential access.\n",
    "\n",
    " How it affects data retrieval:\n",
    "\n",
    "* You **cannot access values by index** like in a list.\n",
    "* Data retrieval is based on the **key**, not the position.\n",
    "* Efficient for **key-based lookups**, but not for operations that depend on order or position.\n",
    "\n",
    "Summary: Even though modern dictionaries retain order, their design and access pattern are optimized for key-based operations, not positional ones.\n"
   ]
  },
  {
   "cell_type": "code",
   "execution_count": null,
   "id": "68768233-2c91-4b75-b5cd-12f1314f6d76",
   "metadata": {},
   "outputs": [],
   "source": [
    "# 20. Explain the difference between a list and a dictionary in terms of data retrieval.\n",
    "--\n",
    "A list stores elements in a sequential order and retrieves data using integer indices. For example, my_list[0] retrieves the first element. Lists are best for ordered collections where position matters.\n",
    "\n",
    "A dictionary, on the other hand, stores data as key-value pairs and retrieves values using unique keys, like my_dict[\"name\"]. This makes dictionaries ideal for quick lookups when you know the key, regardless of the data’s position.\n",
    "\n",
    "In summary, use:\n",
    "\n",
    "List when position-based access is needed.\n",
    "\n",
    "Dictionary when you need fast, meaningful key-based access.\n"
   ]
  },
  {
   "cell_type": "markdown",
   "id": "2782bba0-5e9b-4406-b585-35f5788952d7",
   "metadata": {},
   "source": [
    " Practical Questions"
   ]
  },
  {
   "cell_type": "code",
   "execution_count": 12,
   "id": "41e0d671-94e7-453f-b614-573f394bb63a",
   "metadata": {},
   "outputs": [
    {
     "name": "stdin",
     "output_type": "stream",
     "text": [
      "Enter your Name Nitesh\n"
     ]
    },
    {
     "name": "stdout",
     "output_type": "stream",
     "text": [
      "My name is Nitesh\n"
     ]
    }
   ],
   "source": [
    "# 1. Write a code to create a string with your name and print it.\n",
    "Name = input(\"Enter your Name\")\n",
    "print(f\"My name is {Name}\")"
   ]
  },
  {
   "cell_type": "code",
   "execution_count": 13,
   "id": "4a2fd66b-d3a7-42a2-9eca-bf09825cff25",
   "metadata": {},
   "outputs": [
    {
     "data": {
      "text/plain": [
       "11"
      ]
     },
     "execution_count": 13,
     "metadata": {},
     "output_type": "execute_result"
    }
   ],
   "source": [
    "# 2. Write a code to find the length of the string \"Hello World\"\n",
    "len(\"Hello World\")"
   ]
  },
  {
   "cell_type": "code",
   "execution_count": 14,
   "id": "8e191f10-1ee4-4b8f-bf39-6bd87686183d",
   "metadata": {},
   "outputs": [
    {
     "data": {
      "text/plain": [
       "'Pyt'"
      ]
     },
     "execution_count": 14,
     "metadata": {},
     "output_type": "execute_result"
    }
   ],
   "source": [
    "# 3.  Write a code to slice the first 3 characters from the string \"Python Programming\"\n",
    "sub = \"Python Programming\"\n",
    "sub[0:3]"
   ]
  },
  {
   "cell_type": "code",
   "execution_count": 15,
   "id": "93e6eefa-4ea1-41b0-85ab-0daa7cfa6e39",
   "metadata": {},
   "outputs": [
    {
     "data": {
      "text/plain": [
       "'HELLO'"
      ]
     },
     "execution_count": 15,
     "metadata": {},
     "output_type": "execute_result"
    }
   ],
   "source": [
    " # 4. Write a code to convert the string \"hello\" to uppercase\n",
    "Greeting = \"hello\"\n",
    "Greeting.upper()"
   ]
  },
  {
   "cell_type": "code",
   "execution_count": 16,
   "id": "cf4c9344-a8ee-458c-b5f9-c190106dbdb0",
   "metadata": {},
   "outputs": [
    {
     "name": "stdout",
     "output_type": "stream",
     "text": [
      "I like orange\n"
     ]
    }
   ],
   "source": [
    "# 5.  Write a code to replace the word \"apple\" with \"orange\" in the string \"I like apple\"\n",
    "str1 = \"I like apple\"\n",
    "replace = \"orange\"\n",
    "str1 = str1.replace(\"apple\",\"orange\")\n",
    "print(str1)\n"
   ]
  },
  {
   "cell_type": "code",
   "execution_count": 17,
   "id": "dc324955-a2ab-44f8-a338-370487188dc8",
   "metadata": {},
   "outputs": [
    {
     "name": "stdout",
     "output_type": "stream",
     "text": [
      "[1, 2, 3, 4, 5]\n"
     ]
    }
   ],
   "source": [
    "# 6.  Write a code to create a list with numbers 1 to 5 and print it\n",
    "A=list(range(1,6))\n",
    "print(A)"
   ]
  },
  {
   "cell_type": "code",
   "execution_count": 18,
   "id": "7fc59016-4785-4463-9309-ced380dabb55",
   "metadata": {},
   "outputs": [
    {
     "name": "stdout",
     "output_type": "stream",
     "text": [
      "[1, 2, 3, 4, 10]\n"
     ]
    }
   ],
   "source": [
    "# 7. Write a code to append the number 10 to the list [1, 2, 3, 4]\n",
    "A = [ 1,2,3,4]\n",
    "B = 10\n",
    "A.append(B)\n",
    "print(A)"
   ]
  },
  {
   "cell_type": "code",
   "execution_count": 19,
   "id": "dbe858e0-9ad9-4696-9012-3eccbde5c5be",
   "metadata": {},
   "outputs": [
    {
     "name": "stdout",
     "output_type": "stream",
     "text": [
      "[1, 2, 4, 5]\n"
     ]
    }
   ],
   "source": [
    "# 8.  Write a code to remove the number 3 from the list [1, 2, 3, 4, 5]\n",
    "List = [1,2,3,4,5]\n",
    "List.remove(3)\n",
    "print(List)"
   ]
  },
  {
   "cell_type": "code",
   "execution_count": 20,
   "id": "523fdcb1-ee1d-49aa-93ad-c2e016fd7813",
   "metadata": {},
   "outputs": [
    {
     "data": {
      "text/plain": [
       "'b'"
      ]
     },
     "execution_count": 20,
     "metadata": {},
     "output_type": "execute_result"
    }
   ],
   "source": [
    "# 9.  Write a code to access the second element in the list ['a', 'b', 'c', 'd']\n",
    "List = ['A','b','c','d']\n",
    "List[1]"
   ]
  },
  {
   "cell_type": "code",
   "execution_count": 21,
   "id": "c3b2f9d5-242b-4780-9526-f358bfd231fa",
   "metadata": {},
   "outputs": [
    {
     "data": {
      "text/plain": [
       "[50, 40, 30, 20, 10]"
      ]
     },
     "execution_count": 21,
     "metadata": {},
     "output_type": "execute_result"
    }
   ],
   "source": [
    "# 10.  Write a code to reverse the list [10, 20, 30, 40, 50].\n",
    "List = [ 10,20,30,40,50]\n",
    "List[::-1]"
   ]
  },
  {
   "cell_type": "code",
   "execution_count": 22,
   "id": "cbf2a2ce-b92b-4f96-ba0d-1e57d6d1d573",
   "metadata": {},
   "outputs": [
    {
     "name": "stdout",
     "output_type": "stream",
     "text": [
      "(100, 200, 300)\n"
     ]
    }
   ],
   "source": [
    "# 11. . Write a code to create a tuple with the elements 100, 200, 300 and print it.\n",
    "T1 = (100,200,300)\n",
    "print(T1)"
   ]
  },
  {
   "cell_type": "code",
   "execution_count": 23,
   "id": "6744bf68-fe48-4912-8a36-d799c1e9bd2b",
   "metadata": {},
   "outputs": [
    {
     "data": {
      "text/plain": [
       "('green', 'blue', 'yellow')"
      ]
     },
     "execution_count": 23,
     "metadata": {},
     "output_type": "execute_result"
    }
   ],
   "source": [
    "# 12. Write a code to access the second-to-last element of the tuple ('red', 'green', 'blue', 'yellow').\n",
    "T1 = ('red', 'green', 'blue', 'yellow')\n",
    "T1[1:]"
   ]
  },
  {
   "cell_type": "code",
   "execution_count": 24,
   "id": "a4024587-6973-49df-bd36-e9b0935705f5",
   "metadata": {},
   "outputs": [
    {
     "data": {
      "text/plain": [
       "5"
      ]
     },
     "execution_count": 24,
     "metadata": {},
     "output_type": "execute_result"
    }
   ],
   "source": [
    "# 13. Write a code to find the minimum number in the tuple (10, 20, 5, 15).\n",
    "T1 = (10,20,5,15)\n",
    "min(T1)"
   ]
  },
  {
   "cell_type": "code",
   "execution_count": 25,
   "id": "8ab6f6e6-eee6-41e6-be8d-52a513a2d913",
   "metadata": {},
   "outputs": [
    {
     "name": "stdout",
     "output_type": "stream",
     "text": [
      "1\n"
     ]
    }
   ],
   "source": [
    "# 14. Write a code to find the index of the element \"cat\" in the tuple ('dog', 'cat', 'rabbit').\n",
    "Index_cat = ('dog', 'cat', 'rabbit')\n",
    "Cat_Index = Index_cat.index('cat')\n",
    "print(Cat_Index)"
   ]
  },
  {
   "cell_type": "code",
   "execution_count": 26,
   "id": "baa57857-321e-477a-b7f5-029aeb66c04a",
   "metadata": {},
   "outputs": [
    {
     "name": "stdout",
     "output_type": "stream",
     "text": [
      "Kiwi is present\n"
     ]
    }
   ],
   "source": [
    "# 15.  Write a code to create a tuple containing three different fruits and check if \"kiwi\" is in it.\n",
    "\n",
    "Fruits_Name = (\"Banana\", \"Kiwi\", \"Mango\")\n",
    "if \"Kiwi\" in Fruits_Name:\n",
    "    print(\"Kiwi is present\")\n",
    "else:\n",
    "    print(\"Kiwi is Not present\")"
   ]
  },
  {
   "cell_type": "code",
   "execution_count": 27,
   "id": "b048512e-47db-4b71-8ebd-b154c42e29cd",
   "metadata": {},
   "outputs": [
    {
     "name": "stdout",
     "output_type": "stream",
     "text": [
      "{'c', 'b', 'a'}\n"
     ]
    }
   ],
   "source": [
    " # 16. Write a code to create a set with the elements 'a', 'b', 'c' and print it.\n",
    "Set1 = {'a', 'b', 'c'}\n",
    "print(Set1)"
   ]
  },
  {
   "cell_type": "code",
   "execution_count": 33,
   "id": "a0a2618f-3b00-4ef4-b81c-4e94a3bd8df4",
   "metadata": {},
   "outputs": [
    {
     "name": "stdout",
     "output_type": "stream",
     "text": [
      "set()\n"
     ]
    }
   ],
   "source": [
    "# 17.  Write a code to clear all elements from the set {1, 2, 3, 4, 5}.\n",
    "Set = {1,2,3,4,5}\n",
    "Set.clear()\n",
    "print(Set) "
   ]
  },
  {
   "cell_type": "code",
   "execution_count": 46,
   "id": "07a2ad44-59e8-4282-b7be-4f6f245de03c",
   "metadata": {},
   "outputs": [
    {
     "name": "stdout",
     "output_type": "stream",
     "text": [
      "{1, 2, 3}\n"
     ]
    }
   ],
   "source": [
    "# 18.  Write a code to remove the element 4 from the set {1, 2, 3, 4}.\n",
    "Set = {1,2,3,4}\n",
    "Set.remove(4)\n",
    "print(Set)"
   ]
  },
  {
   "cell_type": "code",
   "execution_count": 34,
   "id": "4858bfe5-797b-40b1-9b42-80df99af2edf",
   "metadata": {},
   "outputs": [
    {
     "name": "stdout",
     "output_type": "stream",
     "text": [
      "{1, 2, 3, 4, 5}\n"
     ]
    }
   ],
   "source": [
    "# 19.  Write a code to find the union of two sets {1, 2, 3} and {3, 4, 5}.\n",
    "Set1 = {1,2,3}\n",
    "Set2 = {3,4,5}\n",
    "Set3 = Set1.union(Set2)\n",
    "print(Set3)"
   ]
  },
  {
   "cell_type": "code",
   "execution_count": 35,
   "id": "340f5242-dfcf-4bda-8de8-c22dd7b9ab03",
   "metadata": {},
   "outputs": [
    {
     "name": "stdout",
     "output_type": "stream",
     "text": [
      "{2, 3}\n"
     ]
    }
   ],
   "source": [
    "# 20. Write a code to find the intersection of two sets {1, 2, 3} and {2, 3, 4}.\n",
    "Set1 = {1,2,3}\n",
    "Set2 = {2,3,4}\n",
    "Set3 = Set1 & Set2\n",
    "print(Set3)"
   ]
  },
  {
   "cell_type": "code",
   "execution_count": 36,
   "id": "427c58de-fbc7-4099-9131-fee737544317",
   "metadata": {},
   "outputs": [
    {
     "name": "stdout",
     "output_type": "stream",
     "text": [
      "{'Name': 'Nitesh', 'age': 28, 'City': 'Munger'}\n"
     ]
    }
   ],
   "source": [
    "# 21. Write a code to create a dictionary with the keys \"name\", \"age\", and \"city\", and print it.\n",
    "Dic = {\"Name\": \"Nitesh\", \"age\": 28, \"City\": \"Munger\"}\n",
    "print(Dic)"
   ]
  },
  {
   "cell_type": "code",
   "execution_count": 37,
   "id": "3f3d94c7-8320-4456-88fa-1b867421f8f9",
   "metadata": {},
   "outputs": [
    {
     "name": "stdout",
     "output_type": "stream",
     "text": [
      "{'name': 'John', 'age': 25, 'country': 'USA'}\n"
     ]
    }
   ],
   "source": [
    " # 22. Write a code to add a new key-value pair \"country\": \"USA\" to the dictionary {'name': 'John', 'age': 25}.\n",
    "Dict =  {'name': 'John', 'age': 25}\n",
    "Address = {\"country\" : \"USA\"}\n",
    "Dict.update(Address)\n",
    "print(Dict)"
   ]
  },
  {
   "cell_type": "code",
   "execution_count": 38,
   "id": "c85badc4-200e-48b7-a990-1a01093d8f64",
   "metadata": {},
   "outputs": [
    {
     "data": {
      "text/plain": [
       "'Alice'"
      ]
     },
     "execution_count": 38,
     "metadata": {},
     "output_type": "execute_result"
    }
   ],
   "source": [
    "# 23.  Write a code to access the value associated with the key \"name\" in the dictionary {'name': 'Alice', 'age': 30}\n",
    "Dic = {'name': 'Alice', 'age': 30}\n",
    "Dic[\"name\"]"
   ]
  },
  {
   "cell_type": "code",
   "execution_count": 39,
   "id": "1ee18eb5-1207-4d27-a93b-482322a8233e",
   "metadata": {},
   "outputs": [
    {
     "name": "stdout",
     "output_type": "stream",
     "text": [
      "{'name': 'Bob', 'city': 'New York'}\n"
     ]
    }
   ],
   "source": [
    "# 24. Write a code to remove the key \"age\" from the dictionary {'name': 'Bob', 'age': 22, 'city': 'New York'}.\n",
    "Dict = {'name': 'Bob', 'age': 22, 'city': 'New York'}\n",
    "del Dict['age']\n",
    "print(Dict)"
   ]
  },
  {
   "cell_type": "code",
   "execution_count": 40,
   "id": "686c5efc-56d0-488c-9b5b-900c71d7d0ca",
   "metadata": {},
   "outputs": [
    {
     "name": "stdout",
     "output_type": "stream",
     "text": [
      "city exist\n"
     ]
    }
   ],
   "source": [
    "# 25.  Write a code to check if the key \"city\" exists in the dictionary {'name': 'Alice', 'city': 'Paris'}.\n",
    "\n",
    "Dict = {'name': 'Alice', 'city': 'Paris'}\n",
    "if \"city\" in Dict:\n",
    "    print(\"city exist\")\n",
    "else:\n",
    "    print(\"City don't exist, enter city\")"
   ]
  },
  {
   "cell_type": "code",
   "execution_count": 41,
   "id": "46549598-3511-40f2-a4fc-281191fe29c7",
   "metadata": {},
   "outputs": [
    {
     "name": "stdout",
     "output_type": "stream",
     "text": [
      "List ---- [1, 2.2, 'true', [5], [{'name': 'Nitesh'}]]\n",
      "Tuple ---- (1, 2, 'Nitesh', 3.2)\n",
      "Dict ---- {'name': 'nitesh'}\n"
     ]
    }
   ],
   "source": [
    "# 26. Write a code to create a list, a tuple, and a dictionary, and print them all.\n",
    "List = [1,2.2, \"true\" ,[5], [{\"name\":\"Nitesh\"}]]\n",
    "Tuple = (1,2, \"Nitesh\", 3.2)\n",
    "Dict = {\"name\":\"nitesh\"}\n",
    "print(\"List ----\" ,List )\n",
    "print(\"Tuple ----\" , Tuple )\n",
    "print(\"Dict ----\" , Dict )"
   ]
  },
  {
   "cell_type": "code",
   "execution_count": 42,
   "id": "48d796d0-e536-4a95-99f7-3d63d7cc32d9",
   "metadata": {},
   "outputs": [
    {
     "name": "stdout",
     "output_type": "stream",
     "text": [
      "[12, 14, 15, 53, 55]\n"
     ]
    }
   ],
   "source": [
    "# 27. Write a code to create a list of 5 random numbers between 1 and 100, sort it in ascending order, and print the\n",
    "# result.(replaced)\n",
    "# can also do in list comprehension\n",
    "import random\n",
    "number = []\n",
    "for i in range(5):\n",
    "    num = random.randint(1,100)\n",
    "    number.append(num)\n",
    "\n",
    "number.sort()\n",
    "\n",
    "print(number)"
   ]
  },
  {
   "cell_type": "code",
   "execution_count": 43,
   "id": "0e9e076f-f5de-4774-b5dc-daab68fbc906",
   "metadata": {},
   "outputs": [
    {
     "name": "stdout",
     "output_type": "stream",
     "text": [
      "4.5\n"
     ]
    }
   ],
   "source": [
    "# 28.  Write a code to create a list with strings and print the element at the third index\n",
    "\n",
    "List = [\"nitesh\", 1, \"Piyush\", 4.5]\n",
    "print(List[3])"
   ]
  },
  {
   "cell_type": "code",
   "execution_count": 44,
   "id": "4b235b9d-9458-4049-bc66-f6c265c83cf3",
   "metadata": {},
   "outputs": [
    {
     "name": "stdout",
     "output_type": "stream",
     "text": [
      "{'Name': 'Nitesh', 'Age': 28, 'Address': 'Bihar'}\n"
     ]
    }
   ],
   "source": [
    "# 29.  Write a code to combine two dictionaries into one and print the result\n",
    "\n",
    "Dict1 = {\"Name\" : \"Nitesh\", \"Age\": 28}\n",
    "Dict2 = {\"Address\": \"Bihar\"}\n",
    "Dict3 = Dict1.copy()\n",
    "Dict3.update(Dict2)\n",
    "print(Dict3)"
   ]
  },
  {
   "cell_type": "code",
   "execution_count": 45,
   "id": "cc4b5350-a7d9-4605-b31d-dba998f96506",
   "metadata": {},
   "outputs": [
    {
     "name": "stdout",
     "output_type": "stream",
     "text": [
      "{'pwskills', 'rajesh', 'nitesh'}\n"
     ]
    }
   ],
   "source": [
    "# 30. Write a code to convert a list of strings into a set.\n",
    "\n",
    "List = [\"nitesh\", \"pwskills\", \"rajesh\"]\n",
    "set1 = set()\n",
    "for i in List:\n",
    "    set1.add(i)\n",
    "print(set1)\n",
    "    "
   ]
  },
  {
   "cell_type": "code",
   "execution_count": null,
   "id": "43715e08-5c3e-4607-b542-f4dc6f975cfc",
   "metadata": {},
   "outputs": [],
   "source": []
  },
  {
   "cell_type": "code",
   "execution_count": null,
   "id": "e1b5da38-dbaf-4c7d-b2f4-54fe7a290aa7",
   "metadata": {},
   "outputs": [],
   "source": []
  },
  {
   "cell_type": "code",
   "execution_count": null,
   "id": "0c83e9fd-ff91-44c4-92a3-97105fc40bca",
   "metadata": {},
   "outputs": [],
   "source": []
  },
  {
   "cell_type": "code",
   "execution_count": null,
   "id": "bd3790b0-b8f3-4f46-85fc-859b313c06e7",
   "metadata": {},
   "outputs": [],
   "source": []
  },
  {
   "cell_type": "code",
   "execution_count": null,
   "id": "d5f6c70a-a9a1-4da3-96e7-0fe6c1410915",
   "metadata": {},
   "outputs": [],
   "source": []
  },
  {
   "cell_type": "code",
   "execution_count": null,
   "id": "3893fa05-db9f-42e9-8102-05716246b6ca",
   "metadata": {},
   "outputs": [],
   "source": []
  }
 ],
 "metadata": {
  "kernelspec": {
   "display_name": "Python 3 (ipykernel)",
   "language": "python",
   "name": "python3"
  },
  "language_info": {
   "codemirror_mode": {
    "name": "ipython",
    "version": 3
   },
   "file_extension": ".py",
   "mimetype": "text/x-python",
   "name": "python",
   "nbconvert_exporter": "python",
   "pygments_lexer": "ipython3",
   "version": "3.13.5"
  }
 },
 "nbformat": 4,
 "nbformat_minor": 5
}
